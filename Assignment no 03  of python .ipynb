{
 "cells": [
  {
   "cell_type": "code",
   "execution_count": 7,
   "metadata": {},
   "outputs": [
    {
     "name": "stdout",
     "output_type": "stream",
     "text": [
      "Enter first value15\n",
      "Enter first value7\n",
      "Enter Operator+\n",
      "22 answer\n"
     ]
    }
   ],
   "source": [
    "# question no 01\n",
    "val1 = input('Enter first value')\n",
    "val2 = input('Enter first value')\n",
    "operator = input('Enter Operator')\n",
    "\n",
    "val1 = int(val1)\n",
    "val2 = int(val2)\n",
    "\n",
    "if operator  == '+':\n",
    "    val = val1 + val2\n",
    "    print(val,'answer')\n",
    "elif operator == '-':\n",
    "    val = val1 - val2\n",
    "    print(val,'answer')\n",
    "elif operator == '*':\n",
    "    val = val1 * val2\n",
    "    print(val,'answer')\n",
    "elif operator == '/':\n",
    "    val = val1 / val2\n",
    "    print(val,'answer')\n",
    "elif operator == '**':\n",
    "    val = val1 ** val2\n",
    "    print(val,'answer')\n",
    "else:\n",
    "    print('Enter Correct Operator')"
   ]
  },
  {
   "cell_type": "code",
   "execution_count": 9,
   "metadata": {},
   "outputs": [
    {
     "name": "stdout",
     "output_type": "stream",
     "text": [
      "Element Exist\n"
     ]
    }
   ],
   "source": [
    "# question no 02\n",
    "test_list = [1,6,3,5,3,4]\n",
    "for i in test_list:\n",
    "    if (i == 4) :\n",
    "        print(\"Element Exist\")    "
   ]
  },
  {
   "cell_type": "code",
   "execution_count": 9,
   "metadata": {},
   "outputs": [
    {
     "name": "stdout",
     "output_type": "stream",
     "text": [
      "{'first name': 'david', 'lastname': 'Elliot', 'address': '4303 wellesley st.', 'language': 'spanish'}\n"
     ]
    }
   ],
   "source": [
    "# question no 03\n",
    "customer = {\n",
    "    \"first name\": \"david\",\n",
    "    \"lastname\": \"Elliot\",\n",
    "    \"address\": \"4303 wellesley st.\"\n",
    "}\n",
    "customer[ \"language\"] = \"spanish\"\n",
    "print(customer)"
   ]
  },
  {
   "cell_type": "code",
   "execution_count": 8,
   "metadata": {},
   "outputs": [
    {
     "name": "stdout",
     "output_type": "stream",
     "text": [
      "DHA street no 2\n"
     ]
    }
   ],
   "source": [
    "# question no 06\n",
    "customer = {\n",
    "    \"first name \" : \"david\",\n",
    "    \"lastname\" : \"Elliot\",\n",
    "    \"address\" : \"DHA street no 2\"\n",
    "}\n",
    "print(customer[\"address\"])"
   ]
  },
  {
   "cell_type": "code",
   "execution_count": 10,
   "metadata": {},
   "outputs": [
    {
     "name": "stdout",
     "output_type": "stream",
     "text": [
      "Enter number to calculate sum5\n",
      "sum of first 5 num is: 15\n"
     ]
    }
   ],
   "source": [
    "# question no 04\n",
    "n = input(\"Enter number to calculate sum\")\n",
    "\n",
    "n = int(n)\n",
    "sum = 0\n",
    "for num in range(0 ,n+1, 1):\n",
    "    sum = sum+num\n",
    "print(\"sum of first\", n ,\"num is:\",sum)"
   ]
  },
  {
   "cell_type": "code",
   "execution_count": 16,
   "metadata": {},
   "outputs": [
    {
     "name": "stdout",
     "output_type": "stream",
     "text": [
      "[2, 1, 5]\n"
     ]
    }
   ],
   "source": [
    "# question no 05\n",
    "a = [1,2,3,2,1,5,6,5,5,5]\n",
    "seen = {}\n",
    "dupes = []\n",
    "\n",
    "for x in a:\n",
    "    if x not in seen:\n",
    "        seen[x] = 1\n",
    "    else:\n",
    "        if seen[x] == 1:\n",
    "            dupes.append(x)\n",
    "        seen[x] += 1\n",
    "print(dupes)"
   ]
  },
  {
   "cell_type": "code",
   "execution_count": null,
   "metadata": {},
   "outputs": [],
   "source": []
  }
 ],
 "metadata": {
  "kernelspec": {
   "display_name": "Python 3",
   "language": "python",
   "name": "python3"
  },
  "language_info": {
   "codemirror_mode": {
    "name": "ipython",
    "version": 3
   },
   "file_extension": ".py",
   "mimetype": "text/x-python",
   "name": "python",
   "nbconvert_exporter": "python",
   "pygments_lexer": "ipython3",
   "version": "3.7.4"
  }
 },
 "nbformat": 4,
 "nbformat_minor": 2
}
